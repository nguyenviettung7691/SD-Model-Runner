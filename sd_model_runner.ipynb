{
  "cells": [
    {
      "cell_type": "markdown",
      "metadata": {
        "id": "view-in-github",
        "colab_type": "text"
      },
      "source": [
        "<a href=\"https://colab.research.google.com/github/nguyenviettung7691/SD-Model-Runner/blob/main/sd_model_runner.ipynb\" target=\"_parent\"><img src=\"https://colab.research.google.com/assets/colab-badge.svg\" alt=\"Open In Colab\"/></a>"
      ]
    },
    {
      "cell_type": "markdown",
      "metadata": {
        "id": "OzLAHg_JVkjB"
      },
      "source": [
        "# **1. Mount Google Drive**"
      ]
    },
    {
      "cell_type": "code",
      "execution_count": null,
      "metadata": {
        "id": "SAyRWDymWUYi"
      },
      "outputs": [],
      "source": [
        "from google.colab import drive\n",
        "drive.mount('/content/drive', force_remount=True)"
      ]
    },
    {
      "cell_type": "markdown",
      "metadata": {
        "id": "etoRzSHfV-HR"
      },
      "source": [
        "# **2. Init SD Web**"
      ]
    },
    {
      "cell_type": "code",
      "execution_count": null,
      "metadata": {
        "id": "fiiGD7XCWgdT"
      },
      "outputs": [],
      "source": [
        "%cd /content\n",
        "\n",
        "!curl -Lo memfix.zip https://github.com/nolanaatama/sd-webui/raw/main/memfix.zip\n",
        "!unzip /content/memfix.zip\n",
        "!apt install -qq libunwind8-dev\n",
        "!dpkg -i *.deb\n",
        "%env LD_PRELOAD=libtcmalloc.so\n",
        "!pip install --upgrade fastapi==0.90.1\n",
        "\n",
        "!git clone https://github.com/AUTOMATIC1111/stable-diffusion-webui\n",
        "!git clone https://github.com/nolanaatama/sd-webui-tunnels /content/stable-diffusion-webui/extensions/sd-webui-tunnels\n",
        "!git clone https://github.com/Mikubill/sd-webui-controlnet /content/stable-diffusion-webui/extensions/sd-webui-controlnet\n",
        "!git clone https://github.com/fkunn1326/openpose-editor /content/stable-diffusion-webui/extensions/openpose-editor\n",
        "!git clone https://github.com/yfszzx/stable-diffusion-webui-images-browser /content/stable-diffusion-webui/extensions/stable-diffusion-webui-images-browser\n",
        "!git clone https://github.com/DominikDoom/a1111-sd-webui-tagcomplete /content/stable-diffusion-webui/extensions/a1111-sd-webui-tagcomplete\n",
        "\n",
        "import shutil\n",
        "shutil.rmtree('/content/stable-diffusion-webui/embeddings')\n",
        "%cd /content/stable-diffusion-webui\n",
        "!git checkout 0cc0ee1\n",
        "!git clone https://huggingface.co/nolanaatama/embeddings\n",
        "\n",
        "%pip install torch==1.13.1+cu117 torchvision==0.14.1+cu117 torchtext==0.14.1 torchaudio==0.13.1 torchdata==0.5.1 --extra-index-url https://download.pytorch.org/whl/cu117"
      ]
    },
    {
      "cell_type": "markdown",
      "metadata": {
        "id": "LvVlc0pghvLF"
      },
      "source": [
        "# **3. Copy SD Models**"
      ]
    },
    {
      "cell_type": "markdown",
      "metadata": {
        "id": "VHtbqwXMcsuu"
      },
      "source": [
        "\n",
        "\n",
        "*   Support model file  type: `Safetensor`, `Ckpt`\n",
        "*   Source:\n",
        "  *   https://civitai.com/\n",
        "  *   [Huggingface](https://huggingface.co/models?pipeline_tag=text-to-image&library=safetensors&sort=downloadshttps://)\n",
        "\n",
        "\n",
        "\n"
      ]
    },
    {
      "cell_type": "code",
      "execution_count": null,
      "metadata": {
        "id": "uHaZcAggh9Ho"
      },
      "outputs": [],
      "source": [
        "# change the file path below with your model path in Google Drive\n",
        "# copy all model files:\n",
        "# !cp /content/drive/MyDrive/AI/* \"/content/stable-diffusion-webui/models/Stable-diffusion\"\n",
        "\n",
        "# or just copy model files below:\n",
        "!cp \"/content/drive/MyDrive/AI/Chilled_re_generic_v2.safetensors\" \"/content/stable-diffusion-webui/models/Stable-diffusion\"\n",
        "!cp \"/content/drive/MyDrive/AI/deliberate_v2.safetensors\" \"/content/stable-diffusion-webui/models/Stable-diffusion\"\n",
        "!cp \"/content/drive/MyDrive/AI/realisticVisionV20_v20.safetensors\" \"/content/stable-diffusion-webui/models/Stable-diffusion\"\n",
        "!cp \"/content/drive/MyDrive/AI/dreamshaper_4BakedVae.safetensors\" \"/content/stable-diffusion-webui/models/Stable-diffusion\"\n",
        "# !cp \"/content/drive/MyDrive/AI/\" \"/content/stable-diffusion-webui/models/Stable-diffusion\""
      ]
    },
    {
      "cell_type": "markdown",
      "metadata": {
        "id": "6rdq559tnhiO"
      },
      "source": [
        "# **4. Copy SD Web ControlNet**"
      ]
    },
    {
      "cell_type": "code",
      "execution_count": null,
      "metadata": {
        "id": "cTlXYfDjniMr"
      },
      "outputs": [],
      "source": [
        "# change the file path below with your controlnet path in Google Drive\n",
        "!cp -r \"/content/drive/MyDrive/AI/controlnet/.\" \"/content/stable-diffusion-webui/extensions/sd-webui-controlnet/models\"\n",
        "\n",
        "# or uncomment below to download from huggingface\n",
        "# !curl -Lo /content/stable-diffusion-webui/extensions/sd-webui-controlnet/models/control_canny-fp16.safetensors https://huggingface.co/webui/ControlNet-modules-safetensors/resolve/main/control_canny-fp16.safetensors\n",
        "# !curl -Lo /content/stable-diffusion-webui/extensions/sd-webui-controlnet/models/control_depth-fp16.safetensors https://huggingface.co/webui/ControlNet-modules-safetensors/resolve/main/control_depth-fp16.safetensors\n",
        "# !curl -Lo /content/stable-diffusion-webui/extensions/sd-webui-controlnet/models/control_hed-fp16.safetensors https://huggingface.co/webui/ControlNet-modules-safetensors/resolve/main/control_hed-fp16.safetensors\n",
        "# !curl -Lo /content/stable-diffusion-webui/extensions/sd-webui-controlnet/models/control_mlsd-fp16.safetensors https://huggingface.co/webui/ControlNet-modules-safetensors/resolve/main/control_mlsd-fp16.safetensors\n",
        "# !curl -Lo /content/stable-diffusion-webui/extensions/sd-webui-controlnet/models/control_normal-fp16.safetensors https://huggingface.co/webui/ControlNet-modules-safetensors/resolve/main/control_normal-fp16.safetensors\n",
        "# !curl -Lo /content/stable-diffusion-webui/extensions/sd-webui-controlnet/models/control_openpose-fp16.safetensors https://huggingface.co/webui/ControlNet-modules-safetensors/resolve/main/control_openpose-fp16.safetensors\n",
        "# !curl -Lo /content/stable-diffusion-webui/extensions/sd-webui-controlnet/models/control_scribble-fp16.safetensors https://huggingface.co/webui/ControlNet-modules-safetensors/resolve/main/control_scribble-fp16.safetensors\n",
        "# !curl -Lo /content/stable-diffusion-webui/extensions/sd-webui-controlnet/models/control_seg-fp16.safetensors https://huggingface.co/webui/ControlNet-modules-safetensors/resolve/main/control_seg-fp16.safetensors"
      ]
    },
    {
      "cell_type": "markdown",
      "metadata": {
        "id": "GUyTdVy4nxd9"
      },
      "source": [
        "# **5. Cleanup install files**"
      ]
    },
    {
      "cell_type": "code",
      "execution_count": null,
      "metadata": {
        "id": "ijoR9e9On4Nt"
      },
      "outputs": [],
      "source": [
        "# !rm -r \"/content/stable-diffusion-webui/models/Stable-diffusion/controlnet\"\n",
        "# !rm /content/*"
      ]
    },
    {
      "cell_type": "markdown",
      "metadata": {
        "id": "i4goxsDPn71v"
      },
      "source": [
        "# **6. Run SD Web UI**"
      ]
    },
    {
      "cell_type": "code",
      "execution_count": null,
      "metadata": {
        "id": "zDAEXRozoB5j"
      },
      "outputs": [],
      "source": [
        "# Web UI tunnel\n",
        "!COMMANDLINE_ARGS=\"--share --disable-safe-unpickle --no-half-vae --xformers --reinstall-xformers --enable-insecure-extension- --gradio-queue --remotemoe\" REQS_FILE=\"requirements.txt\" python launch.py\n",
        "# If remotemoe failed to start, change '--remotemoe' to '--cloudflared' on the COMMANDLINE_ARGS line above to use cloudflare tunnel"
      ]
    }
  ],
  "metadata": {
    "accelerator": "GPU",
    "colab": {
      "provenance": [],
      "authorship_tag": "ABX9TyNzp3WC0ThHSqkD/1nLtdHw",
      "include_colab_link": true
    },
    "gpuClass": "standard",
    "kernelspec": {
      "display_name": "Python 3",
      "name": "python3"
    },
    "language_info": {
      "name": "python"
    }
  },
  "nbformat": 4,
  "nbformat_minor": 0
}